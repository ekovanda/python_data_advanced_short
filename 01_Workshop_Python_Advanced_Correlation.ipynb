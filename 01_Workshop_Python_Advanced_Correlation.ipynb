{
 "cells": [
  {
   "cell_type": "markdown",
   "metadata": {
    "id": "wrDVFx3qlFdY"
   },
   "source": [
    "# The Absolute Basics (Recap)\n",
    "\n",
    "**Anyone who has already taken a Python course with me and/or is familiar with Jupyter Notebooks like this one can skip to the next section.**\n",
    "\n",
    "This is a review / introduction to the Jupyter Notebooks user interface. It's meant to help you quickly get (re)acquainted with the setup. If you're already comfortable with Python & Jupyter Notebooks, feel free to go through this section more quickly or skip it entirely."
   ]
  },
  {
   "cell_type": "markdown",
   "metadata": {
    "id": "avi2DAZFlrzG"
   },
   "source": [
    "## Layout\n",
    "This tutorial is set up in what's called a Jupyter Notebook (file type .ipynb). It contains two types of \"cells\":\n",
    "- Markdown cells (like this one) contain text and instructions.\n",
    "- Code cells (see below) contain... well... code. You can run them by clicking on a small play button or by clicking inside them and pressing SHIFT+ENTER or CTRL+ENTER.\n",
    "\n",
    "What's nice about Jupyter Notebooks is that Markdown cells allow us to explain code easily, but more importantly, each code cell can be run individually. This way, you can write and test your code piece by piece and see your output (or error message) immediately. This makes it easy for us to debug and learn.\n",
    "\n",
    "<font color='green'>**Try it out by running the code block below.**</font>"
   ]
  },
  {
   "cell_type": "code",
   "execution_count": null,
   "metadata": {
    "id": "A7aca1y-k0tb"
   },
   "outputs": [],
   "source": [
    "print(\"Welcome to the first hands-on exercise in the course 'Advanced Python - Data Analysis, Visualization, and Statistics in Python!'\")"
   ]
  },
  {
   "cell_type": "markdown",
   "metadata": {
    "id": "HZTd-aZDmJVm"
   },
   "source": [
    "You'll see the printed output just below the code cell.\n",
    "\n",
    "<font color='green'>**Use the empty cell below to try the print function yourself.**</font>"
   ]
  },
  {
   "cell_type": "code",
   "execution_count": null,
   "metadata": {
    "id": "rCkJenGrmLIN"
   },
   "outputs": [],
   "source": []
  },
  {
   "cell_type": "markdown",
   "metadata": {
    "id": "T5cLw_ZrmLsF"
   },
   "source": [
    "## Defining Variables\n",
    "\n",
    "Python—and all other programming languages—rely on variables or \"objects\" for calculations. In simple terms, every variable has a *value* and a *type*. In Python, the type is inferred implicitly, which makes it a more accessible language for beginners since you don't have to explicitly state the data type of every object.\n",
    "\n",
    "Below, we define two variables, `a` and `b`.\n",
    "\n",
    "- `a` is an *integer* with the value 3.\n",
    "- `b` is a *string* (=text) with the value \"Hello\".\n",
    "\n",
    "<font color='green'>**Run the cells below.**</font>"
   ]
  },
  {
   "cell_type": "code",
   "execution_count": null,
   "metadata": {
    "id": "NcjOMjECmRK1"
   },
   "outputs": [],
   "source": [
    "a = 3\n",
    "b = \"Hello\""
   ]
  },
  {
   "cell_type": "markdown",
   "metadata": {
    "id": "jSZWc81RmSd0"
   },
   "source": [
    "## Calling Variables\n",
    "\n",
    "We have now stored the values 3 and \"Hello\" in the variables `a` and `b`. We can retrieve these stored variables by *calling* them.\n",
    "\n",
    "<font color='green'>**Run the cell below to call `a` and display its value on the screen.**</font>\n",
    "\n",
    "(Note: By default, Jupyter runs all the code in your code cell but only shows you the last variable or output, unless you explicitly use `print()`.)"
   ]
  },
  {
   "cell_type": "code",
   "execution_count": null,
   "metadata": {
    "id": "4kbPSmhAmVP1"
   },
   "outputs": [],
   "source": [
    "a"
   ]
  },
  {
   "cell_type": "markdown",
   "metadata": {
    "id": "t3CF1y7jm66U"
   },
   "source": [
    "Now we also want to call the variable `b`.\n",
    "\n",
    "<font color='green'>**Create a new code cell right below this one and call the variable `b`.**</font>\n",
    "\n",
    "\n",
    "You can create new cells by clicking the plus (+) button in the toolbar."
   ]
  },
  {
   "cell_type": "markdown",
   "metadata": {
    "id": "HX6AMDUjm-rY"
   },
   "source": [
    "We can define new variables based on previously defined ones. For example, we can define `c = a + 10`."
   ]
  },
  {
   "cell_type": "code",
   "execution_count": null,
   "metadata": {
    "id": "c7tX5GcZm_3x"
   },
   "outputs": [],
   "source": [
    "c = a + 10\n",
    "c"
   ]
  },
  {
   "cell_type": "markdown",
   "metadata": {
    "id": "xrdZ3a4rnBMn"
   },
   "source": [
    "Great job! 🥳 You've now grasped the basics of the Jupyter interface and how to define variables."
   ]
  },
  {
   "cell_type": "markdown",
   "metadata": {
    "id": "Jd73IjKRnE3P"
   },
   "source": [
    "## Handling Errors\n",
    "Python may be a forgiving programming language, but it's still a programming language. That means if you don't follow its rules, it will return an error and won't run your code.\n",
    "\n",
    "This can be tricky when you're starting out, as even a single typo can stop your code from working. Fortunately, Python gives some hints about why your code failed. So, when you encounter an error, try to follow these steps:\n",
    "- Relax. Errors happen all the time, even to the best of us.\n",
    "- Read the error message (the beginning and the end of the message especially provide helpful clues).\n",
    "- Try to determine the cause of the error.\n",
    "  - Sometimes the error message might tell you something.\n",
    "  - Sometimes you just have to look closely.\n",
    "  - Sometimes it can be helpful to break down a more complex sequence of steps to see exactly where your code is failing.\n",
    "- If you can't fix the code yourself, StackOverflow.com is your friend. Google your error and see what advice you get on StackOverflow. Everyone does this.\n",
    "- ChatGPT is also an excellent debugging tool. You can paste in code, ask it to explain what each line does, or have it automatically fix your code.\n",
    "  - But try not to just copy-paste; really try to understand what makes the code work and what doesn't.\n",
    "- If all else fails, try asking another person for help. Sometimes a fresh pair of eyes is all it takes.\n",
    "\n",
    "<font color='green'>**Now, see what's wrong with the following code and fix the error.**</font>"
   ]
  },
  {
   "cell_type": "code",
   "execution_count": null,
   "metadata": {
    "id": "Edtpl_oFnDLr"
   },
   "outputs": [],
   "source": [
    "print(\"This is a really important message. Unfortunately, it won't execute.)"
   ]
  },
  {
   "cell_type": "markdown",
   "metadata": {
    "id": "aRlzMydAnOLJ"
   },
   "source": [
    "Remember your variables `a` and `b` that you defined above?\n",
    "\n",
    "<font color='green'>**Call them again to remind yourself of their values.**</font>"
   ]
  },
  {
   "cell_type": "code",
   "execution_count": null,
   "metadata": {
    "id": "vnbJDzwEnPA7"
   },
   "outputs": [],
   "source": []
  },
  {
   "cell_type": "code",
   "execution_count": null,
   "metadata": {
    "id": "KhXBKl_LAiV1"
   },
   "outputs": [],
   "source": []
  },
  {
   "cell_type": "markdown",
   "metadata": {
    "id": "2hcoWChZnQeG"
   },
   "source": [
    "<font color='green'>**Define the variable `d = a * 2`.**</font>"
   ]
  },
  {
   "cell_type": "code",
   "execution_count": null,
   "metadata": {
    "id": "tmg3zMp5nQ8S"
   },
   "outputs": [],
   "source": []
  },
  {
   "cell_type": "markdown",
   "metadata": {
    "id": "706TyrdRA7Bc"
   },
   "source": [
    "<font color='green'>**What happens now if you calculate `b * d`?**</font>"
   ]
  },
  {
   "cell_type": "code",
   "execution_count": null,
   "metadata": {
    "id": "nvNsnh3oA6i5"
   },
   "outputs": [],
   "source": []
  },
  {
   "cell_type": "markdown",
   "metadata": {
    "id": "yd6742o5nTCD"
   },
   "source": [
    "### Using Code Comments\n",
    "Sometimes it's helpful to write little notes in your code to explain what's happening. To do this, type `#` at the beginning of your line. Such lines will not be executed as code."
   ]
  },
  {
   "cell_type": "code",
   "execution_count": null,
   "metadata": {
    "id": "O_QYRzYtnUAi"
   },
   "outputs": [],
   "source": [
    "# This line is just a comment and will not be executed\n",
    "print(\"This line will be printed\")"
   ]
  },
  {
   "cell_type": "markdown",
   "metadata": {
    "id": "ZxpEPMI6nWbx"
   },
   "source": [
    "You can also use comments to \"comment out\" entire blocks of code. This can also be helpful when debugging."
   ]
  },
  {
   "cell_type": "code",
   "execution_count": null,
   "metadata": {
    "id": "_6OJrqZpnW1a"
   },
   "outputs": [],
   "source": [
    "#print(\"Line 1\")\n",
    "#print(\"Line 2\")\n",
    "print(\"Line 3\")\n",
    "#print(\"Line 4\")"
   ]
  },
  {
   "cell_type": "markdown",
   "metadata": {
    "id": "fNgiP1ekna6p"
   },
   "source": [
    "## Hooray! 🥳🎉\n",
    "You've mastered the basic steps. Now let's do something more interesting, now that you're settled in."
   ]
  },
  {
   "cell_type": "markdown",
   "metadata": {
    "id": "DAI8QT0xngvN"
   },
   "source": [
    "# Exploratory Data Analysis\n",
    "We will delve into the beginnings of exploratory data analysis and learn how to calculate descriptive statistics for a variable as well as a correlation between two variables.\n",
    "\n",
    "*Note*: This course is designed for advanced users. It assumes that you are already familiar with the basics of Python, especially `pandas`. If you don't know how to select columns and filter datasets with `pandas`, I recommend that you first take one of our basic courses. If you still want to participate, AI assistants like ChatGPT or Google Gemini can help you in areas where you have difficulties."
   ]
  },
  {
   "cell_type": "markdown",
   "metadata": {
    "id": "NnmDEzBx2_qB"
   },
   "source": [
    "## Reading in Data\n",
    "For practice, we'll use [this data](https://www.kaggle.com/datasets/steve1215rogg/student-lifestyle-dataset) from Kaggle. I have added one more column to it.\n",
    "\n",
    "<font color='green'>**Read in the file `\"01_student_lifestyle.csv\"`.**</font>\n",
    "\n",
    "Keep in mind that you first need to upload the file to the folder area (on the left). The csv file must be unzipped for this (= not a ZIP file). There is a short demo video in the course materials on GitHub if you have trouble with this."
   ]
  },
  {
   "cell_type": "code",
   "execution_count": null,
   "metadata": {
    "id": "HnlJd8Rm33s_"
   },
   "outputs": [],
   "source": [
    "import pandas as pd"
   ]
  },
  {
   "cell_type": "code",
   "execution_count": null,
   "metadata": {
    "id": "JqBlQx8E2y90"
   },
   "outputs": [],
   "source": [
    "# df = pd.read_csv('01_student_lifestyle.csv')\n",
    "# Your code here"
   ]
  },
  {
   "cell_type": "markdown",
   "metadata": {
    "id": "FMEFpv6Y30O8"
   },
   "source": [
    "<font color='green'>**Briefly familiarize yourself with the DataFrame by looking at the columns, rows, and interesting values.**</font>\n",
    "\n",
    "How and how deeply you do this is up to you."
   ]
  },
  {
   "cell_type": "code",
   "execution_count": null,
   "metadata": {
    "id": "xUEVQ8bg4Hd4"
   },
   "outputs": [],
   "source": [
    "# Your code here"
   ]
  },
  {
   "cell_type": "markdown",
   "metadata": {
    "id": "Shn2VxHh4jkh"
   },
   "source": [
    "## Descriptive Statistics\n",
    "When we analyze data, we are often interested in the distribution of certain variables. A simple measure for this is provided by descriptive statistics such as mean, minimum, maximum, quantiles, etc.\n",
    "\n",
    "For example, we might want to find out the average shopping cart value of our e-commerce customers, the earliest goal of our favorite team, or the top 1% of movies in a database.\n",
    "\n",
    "Most of these descriptive statistics can only be applied to **numerical variables**. For **categorical and ordinal** variables, the mode is particularly useful, which gives the most frequent value."
   ]
  },
  {
   "cell_type": "markdown",
   "metadata": {
    "id": "KOSY1h-s-Ee4"
   },
   "source": [
    "### Minimum and Maximum\n",
    "Self-explanatory. Applies to numerical and ordinal variables."
   ]
  },
  {
   "cell_type": "markdown",
   "metadata": {
    "id": "a0ebD475-bOV"
   },
   "source": [
    "We can find out how diligent the most and least hardworking students in our sample are."
   ]
  },
  {
   "cell_type": "code",
   "execution_count": null,
   "metadata": {
    "id": "DhvNgNFz5nWt"
   },
   "outputs": [],
   "source": [
    "df.Study_Hours_Per_Day.max()"
   ]
  },
  {
   "cell_type": "code",
   "execution_count": null,
   "metadata": {
    "id": "FehPlwQj8ZeP"
   },
   "outputs": [],
   "source": [
    "df.Study_Hours_Per_Day.min()"
   ]
  },
  {
   "cell_type": "markdown",
   "metadata": {
    "id": "lSSiTRBa-jAc"
   },
   "source": [
    "If we want to know which row the values belong to, we use `idxmax()` and `idxmin()` to get the **index**, which is the identifier of the row."
   ]
  },
  {
   "cell_type": "code",
   "execution_count": null,
   "metadata": {
    "id": "l4vlc-PX-YfR"
   },
   "outputs": [],
   "source": [
    "df.Study_Hours_Per_Day.idxmax()"
   ]
  },
  {
   "cell_type": "code",
   "execution_count": null,
   "metadata": {
    "id": "fNc9g1Mm-yBh"
   },
   "outputs": [],
   "source": [
    "# This is what the life of the most diligent student looks like.\n",
    "# No wonder they're stressed, studying 10 hours a day ;)\n",
    "df.iloc[100]"
   ]
  },
  {
   "cell_type": "markdown",
   "metadata": {
    "id": "FBp6PbN7_HhN"
   },
   "source": [
    "<font color='green'>**Try these functions for another column of your choice.**</font>"
   ]
  },
  {
   "cell_type": "code",
   "execution_count": null,
   "metadata": {
    "id": "NqtVxGN_-zbJ"
   },
   "outputs": [],
   "source": [
    "# Your code here"
   ]
  },
  {
   "cell_type": "markdown",
   "metadata": {
    "id": "_b4RZrje_TTk"
   },
   "source": [
    "### Averages\n",
    "We've learned to identify the extremes of the distribution. Now let's get to know the center of the distribution.\n",
    "\n",
    "Many of you might think of the mean when you hear \"average.\" However, there are other averages that are useful in data analysis: the median and the mode.\n",
    "\n",
    "A brief explanation:\n",
    "- **Mean**\n",
    "  - The sum of all values divided by the number of values. Also called the arithmetic mean.\n",
    "  - Sensitive to outliers.\n",
    "  - Applies only to numerical variables.\n",
    "- **Median**\n",
    "  - The value for which half of the observations are above it and the other half are below it.\n",
    "  - Is not distorted by outliers.\n",
    "  - Applies to ordinal and numerical variables, but is more meaningful for numerical ones.\n",
    "- **Mode**\n",
    "  - Returns the most frequently occurring observation.\n",
    "  - Unlike the others, it can also be applied to categorical variables.\n",
    "  - Applies to all variable types, but is more meaningful for categorical & ordinal ones."
   ]
  },
  {
   "cell_type": "code",
   "execution_count": null,
   "metadata": {
    "id": "Lhy9luSF_PEX"
   },
   "outputs": [],
   "source": [
    "df.Study_Hours_Per_Day.mean()"
   ]
  },
  {
   "cell_type": "code",
   "execution_count": null,
   "metadata": {
    "id": "Z2xHRx6pHqiT"
   },
   "outputs": [],
   "source": [
    "df.Study_Hours_Per_Day.median()"
   ]
  },
  {
   "cell_type": "code",
   "execution_count": null,
   "metadata": {
    "id": "GYz-YVnQHssi"
   },
   "outputs": [],
   "source": [
    "df.Study_Hours_Per_Day.mode()"
   ]
  },
  {
   "cell_type": "markdown",
   "metadata": {
    "id": "fr8D7QZJH8qm"
   },
   "source": [
    "<font color='green'>**Try out the average statistics for variables of your choice.**</font>"
   ]
  },
  {
   "cell_type": "code",
   "execution_count": null,
   "metadata": {
    "id": "0pOiScZ7HuOr"
   },
   "outputs": [],
   "source": [
    "# Your code here"
   ]
  },
  {
   "cell_type": "markdown",
   "metadata": {
    "id": "7h3H2gWKIHfw"
   },
   "source": [
    "### Other Statistics\n",
    "- `.count()`: Returns the number of observations.\n",
    "- `.std()`: Indicates the standard deviation.\n",
    "  - This measures the spread of the distribution. A small standard deviation means the values are close together; a large one means they are far apart.\n",
    "- `.quantile(q)`: Returns the value for the entered quantile `q`.\n",
    "  - For example, for `q=0.99`, we get the value of the top 1% of the distribution.\n",
    "\n",
    "<font color='green'>**Try out the other statistics.**</font>"
   ]
  },
  {
   "cell_type": "code",
   "execution_count": null,
   "metadata": {
    "id": "4mzBou1yIPKr"
   },
   "outputs": [],
   "source": [
    "# Your code here"
   ]
  },
  {
   "cell_type": "code",
   "execution_count": null,
   "metadata": {
    "id": "_D9GEnPVDIxG"
   },
   "outputs": [],
   "source": [
    "# Your code here"
   ]
  },
  {
   "cell_type": "code",
   "execution_count": null,
   "metadata": {
    "id": "LdBQesa3DJAq"
   },
   "outputs": [],
   "source": [
    "# Your code here"
   ]
  },
  {
   "cell_type": "markdown",
   "metadata": {
    "id": "jnusNFeTIaUf"
   },
   "source": [
    "### A Quick Solution for Everything\n",
    "\n",
    "Because the above statistics are often calculated together, there's a function that bundles this for us."
   ]
  },
  {
   "cell_type": "code",
   "execution_count": null,
   "metadata": {
    "id": "61wl4DraIc-Z"
   },
   "outputs": [],
   "source": [
    "df.Study_Hours_Per_Day.describe()"
   ]
  },
  {
   "cell_type": "markdown",
   "metadata": {
    "id": "iPxibYZEIjtT"
   },
   "source": [
    "<font color='green'>**Do the same for another column.**</font>\n",
    "\n",
    "What happens if you choose a categorical column?"
   ]
  },
  {
   "cell_type": "code",
   "execution_count": null,
   "metadata": {
    "id": "asKfV40rImeJ"
   },
   "outputs": [],
   "source": [
    "# Your code here"
   ]
  },
  {
   "cell_type": "code",
   "execution_count": null,
   "metadata": {
    "id": "dDXmaUXWDyv_"
   },
   "outputs": [],
   "source": [
    "# Your code here"
   ]
  },
  {
   "cell_type": "markdown",
   "metadata": {
    "id": "jZsC5b81Iza7"
   },
   "source": [
    "## Correlations\n",
    "\n",
    "Correlations are a fundamental tool in statistics to examine the relationship between two variables. They indicate whether and how strongly two quantities are related to each other.\n",
    "\n",
    "The correlation is described by the correlation coefficient, which can take values between -1 and +1:\n",
    "\n",
    "- **+1**: Perfect **positive correlation** (as one variable increases, the other also increases proportionally).\n",
    "- **0**: **No correlation** (no discernible relationship).\n",
    "- **-1**: Perfect **negative correlation** (as one variable increases, the other decreases proportionally).\n",
    "\n",
    "In practice, we often use the **Pearson correlation coefficient** to measure linear relationships. The prerequisite for this is that we have two numerical variables.\n",
    "\n",
    "In Python, there are various ways to calculate correlation:"
   ]
  },
  {
   "cell_type": "markdown",
   "metadata": {
    "id": "d9f2UWrD8AC6"
   },
   "source": [
    "We see that longer study time is associated with a higher GPA (Grade Point Average). This probably matches our expectations. However, we cannot yet confirm causality from this.\n",
    "\n",
    "Note on interpreting `GPA`: Unlike some other school systems, a *higher* `GPA` corresponds to *better* performance."
   ]
  },
  {
   "cell_type": "code",
   "execution_count": null,
   "metadata": {
    "id": "DEDs06si7mrX"
   },
   "outputs": [],
   "source": [
    "# With pandas, we select one column\n",
    "# Then we specify the function to be used (corr())\n",
    "# And as the argument for the corr() function, we select the second column\n",
    "df.Study_Hours_Per_Day.corr(df.GPA)"
   ]
  },
  {
   "cell_type": "markdown",
   "metadata": {
    "id": "g2zoJGKV9UCK"
   },
   "source": [
    "Alternatively, we can also determine the Pearson correlation coefficient using `scipy`."
   ]
  },
  {
   "cell_type": "code",
   "execution_count": null,
   "metadata": {
    "id": "b8ZkirfU8cqz"
   },
   "outputs": [],
   "source": [
    "# We import the \"pearsonr\" function from the \"stats\" module of the \"scipy\" package\n",
    "from scipy.stats import pearsonr"
   ]
  },
  {
   "cell_type": "code",
   "execution_count": null,
   "metadata": {
    "id": "AAx4fH7T8dVe"
   },
   "outputs": [],
   "source": [
    "# We determine the result of the correlation\n",
    "result = pearsonr(df.Study_Hours_Per_Day, df.GPA)\n",
    "print(result[0])"
   ]
  },
  {
   "cell_type": "markdown",
   "metadata": {
    "id": "Tq-lXxfB9qgr"
   },
   "source": [
    "The `scipy.stats` library also gives us a second value, called the p-value. For now, just know that a very small p-value (like the one we will see below) means that the observed correlation is very likely not just a random coincidence.\n",
    "\n",
    "Even if the correlation is strong, we still can't speak of causality here. More on that in the next lesson. 😊"
   ]
  },
  {
   "cell_type": "code",
   "execution_count": null,
   "metadata": {
    "id": "wtZl46AB9TMj"
   },
   "outputs": [],
   "source": [
    "result"
   ]
  },
  {
   "cell_type": "markdown",
   "metadata": {
    "id": "GZJz73ao-P7a"
   },
   "source": [
    "<font color='green'>**Try to determine the correlation between two variables yourself.**</font>\n",
    "\n",
    "Hint: Correlations are symmetrical. So it doesn't matter which variable you take first and which second."
   ]
  },
  {
   "cell_type": "code",
   "execution_count": null,
   "metadata": {
    "id": "uZEmZMGh-URR"
   },
   "outputs": [],
   "source": [
    "# Your code here"
   ]
  },
  {
   "cell_type": "markdown",
   "metadata": {
    "id": "6ENl3merWxiB"
   },
   "source": [
    "☕❗ <font color='red'>**Take a break here and let me know you're done.**</font> ❗☕\n",
    "\n",
    "<font color='green'>**Check if someone else perhaps might need help.**</font>\n",
    "\n",
    "---"
   ]
  },
  {
   "cell_type": "markdown",
   "metadata": {
    "id": "nYJZgvHdpAcd"
   },
   "source": [
    "# Checking Our Assumptions\n",
    "\n",
    "❗ <font color='green'>**Only continue here after we have discussed the assumptions for correlation tests.**</font> ❗\n",
    "\n",
    "Okay, that was pretty straightforward. But we left out a few details: the conditions that make a Pearson correlation test valid. Before we fully trust our correlation score, it's good practice to quickly check a few things.\n",
    "\n",
    "For beginners, the best way to do this is visually.\n",
    "\n",
    "- **1) Is the relationship linear?**\n",
    "  - Pearson's correlation only captures straight-line relationships.\n",
    "\n",
    "- **2) Are there any major outliers?**\n",
    "  - Extreme data points can distort the result.\n",
    "\n",
    "- **3) Are both columns normally distributed?**\n",
    "  - Pearson's correlation can only be trusted if each variable follows a normal bell-shaped distribution.\n",
    "\n",
    "Let's investigate these two points for `Study_Hours_Per_Day` and `GPA`."
   ]
  },
  {
   "cell_type": "markdown",
   "metadata": {
    "id": "sNEacXOrWcc"
   },
   "source": [
    "## 1) Linearity\n",
    "Pearson's r can only detect linear relationships, so it is poorly suited for relationships that have a curve.\n",
    "\n",
    "For example, the relationship between temperature and well-being is usually non-linear: many people feel comfortable at 20-25°C, but not at very cold or very hot temperatures.\n",
    "\n",
    "We can easily assess linearity by eye by looking at the variables in a scatter plot."
   ]
  },
  {
   "cell_type": "markdown",
   "metadata": {
    "id": "smNEacXOrWcc"
   },
   "source": [
    "Indeed, we observe an upward trend, without curves. So there appears to be a linear relationship between the two variables."
   ]
  },
  {
   "cell_type": "code",
   "execution_count": null,
   "metadata": {
    "id": "A2xTTWBEl24Z"
   },
   "outputs": [],
   "source": [
    "df.plot(kind=\"scatter\", x=\"Study_Hours_Per_Day\", y=\"GPA\")"
   ]
  },
  {
   "cell_type": "markdown",
   "metadata": {
    "id": "2yn8VZGNrmJI"
   },
   "source": [
    "## 2) Outlier Analysis\n",
    "Outliers are data points that deviate significantly from the distribution of the rest of the data points. These can distort the result and may indicate a measurement error.\n",
    "\n",
    "For example, if we observe data points of someone studying 22 hours a day, that is likely an error in data collection and should be investigated. But be careful: just because a data point is unusual, we shouldn't necessarily remove it. Unusual things happen, and if we subsequently remove them (or correct them otherwise), we might be the ones distorting the result and drawing false conclusions.\n",
    "\n",
    "Therefore, the rule of thumb is: outliers should be investigated, but we should only make corrections if we\n",
    "- a) have a reason to believe that there is a measurement error\n",
    "- b) want to limit our statistical statements to the \"majority\" and consciously disregard the extremes.\n",
    "\n",
    "*So how do we find out if a data point is an outlier?*"
   ]
  },
  {
   "cell_type": "markdown",
   "metadata": {},
   "source": [
    "### Domain Knowledge\n",
    "If we know that certain measurements are unrealistic or impossible (e.g., 22 or even 26 hours of study time per day), then we can confidently make corrections. Such interventions merely require a good understanding of the data and the data collection process, as well as some common sense.\n",
    "\n",
    "When we look at the scatterplot above, we can see that the measured values do not appear to be unrealistic or impossible."
   ]
  },
  {
   "cell_type": "markdown",
   "metadata": {
    "id": "aixvwg3etgM4"
   },
   "source": [
    "### Visual Inspection\n",
    "\n",
    "With **scatter plots** or **box plots**, we can visually represent the distribution of our data points and thus quickly see if individual points deviate greatly from the usual distribution."
   ]
  },
  {
   "cell_type": "code",
   "execution_count": null,
   "metadata": {
    "id": "N9ZGXdvjrnxT"
   },
   "outputs": [],
   "source": [
    "# If we want to check two variables at once, a scatter plot is suitable\n",
    "df.plot(kind=\"scatter\", x=\"Study_Hours_Per_Day\", y=\"GPA\", title=\"Scatterplot for two variables\");"
   ]
  },
  {
   "cell_type": "markdown",
   "metadata": {
    "id": "tD4NoK_HuY3j"
   },
   "source": [
    "A **Box Plot** is another great tool. It shows several statistical values in one visualization:\n",
    "- **Median**: The line in the middle of the box\n",
    "- **25% and 75% Quantiles**: The edges of the box (also called the interquartile range, IQR)\n",
    "- **Whiskers**: The lines extending from the box, which represent the typical range of the data.\n",
    "- **Outliers**: The dots that fall outside the whiskers.\n",
    "\n",
    "Any data points beyond the whiskers are classified as **outliers**.\n",
    "\n",
    "However, outliers do **not necessarily require action**. They are just conspicuous points that could be investigated further."
   ]
  },
  {
   "cell_type": "code",
   "execution_count": null,
   "metadata": {
    "id": "Ez4ryhXXu-GT"
   },
   "outputs": [],
   "source": [
    "# If we want to examine one variable in detail, a box plot is suitable\n",
    "df.boxplot(column=[\"Study_Hours_Per_Day\", \"GPA\"])"
   ]
  },
  {
   "cell_type": "markdown",
   "metadata": {
    "id": "N0aXmr6RSm0q"
   },
   "source": [
    "Looking at our plots, nothing seems impossible or extremely out of place. The data points look reasonable, so we can proceed with confidence."
   ]
  },
  {
   "cell_type": "markdown",
   "metadata": {},
   "source": [
    "## 3) Normal Distribution\n",
    "Statistical tests often require that the variables being tested are normally distributed.\n",
    "This distribution is widespread and also known as the Gaussian distribution or bell curve.\n",
    "\n",
    "_How do we check whether variables are normally distributed?_\n"
   ]
  },
  {
   "cell_type": "markdown",
   "metadata": {},
   "source": [
    "### Visual Inspection\n",
    "There are statistical tests of normality which we will learn about later in this course. We can, however, also get a good impression by inspecting the data visually to see if it roughly follows the familiar bell shape. \n",
    "\n",
    "A histogram gives us an initial indication of whether a variable is normally distributed. In this case, we see the classic bell shape. The variable `GPA` therefore appears to be normally distributed."
   ]
  },
  {
   "cell_type": "code",
   "execution_count": null,
   "metadata": {},
   "outputs": [],
   "source": [
    "df.GPA.hist()"
   ]
  },
  {
   "cell_type": "markdown",
   "metadata": {},
   "source": [
    "<font color='green'>**Do the same for the other variable we are using in our correlation.**</font>"
   ]
  },
  {
   "cell_type": "code",
   "execution_count": null,
   "metadata": {},
   "outputs": [],
   "source": []
  },
  {
   "cell_type": "markdown",
   "metadata": {
    "id": "qJ-FCEUkCOi7"
   },
   "source": [
    "## What if the assumptions aren't met?\n",
    "Our checks looked fairly good and so **Pearson correlation** might be the right test. What would we do, however, if one of our assumptions failed? In such cases, we should be cautious with the **Pearson correlation**.\n",
    "\n",
    "Instead, we could use a correlation test that requires fewer assumptions: **Spearman's Rank Correlation**."
   ]
  },
  {
   "cell_type": "markdown",
   "metadata": {
    "id": "yZC-bjFHamWN"
   },
   "source": [
    "# Spearman's Rank Correlation\n",
    "Spearman's Rank Correlation is a non-parametric version of a correlation test. The interpretation of the coefficient (from -1 to +1) remains the same, but Spearman's test can also be applied when the assumptions for Pearson's correlation test are not met.\n",
    "\n",
    "As a rule of thumb, if the assumptions for a parametric test (like Pearson's) are met, it is more suitable. If they are not met, we turn to the non-parametric test (like Spearman's)."
   ]
  },
  {
   "cell_type": "code",
   "execution_count": null,
   "metadata": {
    "id": "dlNLLOIsawDq"
   },
   "outputs": [],
   "source": [
    "from scipy.stats import spearmanr\n",
    "\n",
    "# Spearman's rank correlation\n",
    "result = spearmanr(df.Study_Hours_Per_Day, df.GPA)\n",
    "\n",
    "print(f\"Spearman correlation coefficient: {result[0]}\")\n",
    "print(f\"P-value: {result[1]}\")"
   ]
  },
  {
   "cell_type": "markdown",
   "metadata": {
    "id": "NM9QWWsOJQ0P"
   },
   "source": [
    "<font color='green'>**How do you interpret this result?**</font>"
   ]
  },
  {
   "cell_type": "markdown",
   "metadata": {
    "id": "7D4OcTL8wPs6"
   },
   "source": [
    "## Now You!\n",
    "<font color='green'>**Check the visual assumptions mentioned above for one or two variables of your choice and run the appropriate correlation test.**</font>\n",
    "\n",
    "Hint: The variables must be numerical."
   ]
  },
  {
   "cell_type": "code",
   "execution_count": null,
   "metadata": {
    "id": "Oswfh4emwayX"
   },
   "outputs": [],
   "source": []
  }
 ],
 "metadata": {
  "colab": {
   "authorship_tag": "ABX9TyO1uRO7PV4wEVz4okOeMvCg",
   "provenance": [],
   "toc_visible": true
  },
  "kernelspec": {
   "display_name": "Python 3",
   "name": "python3"
  },
  "language_info": {
   "name": "python"
  }
 },
 "nbformat": 4,
 "nbformat_minor": 0
}
