{
 "cells": [
  {
   "cell_type": "code",
   "execution_count": null,
   "metadata": {
    "id": "jNppHrJOEDGQ"
   },
   "outputs": [],
   "source": [
    "import pandas as pd"
   ]
  },
  {
   "cell_type": "code",
   "execution_count": null,
   "metadata": {
    "id": "GS0mK8zJEYdL"
   },
   "outputs": [],
   "source": [
    "df = pd.read_csv(\"games1.csv\")"
   ]
  },
  {
   "cell_type": "code",
   "execution_count": null,
   "metadata": {
    "id": "14VWObSgEbUA"
   },
   "outputs": [],
   "source": [
    "df.head(3)"
   ]
  },
  {
   "cell_type": "code",
   "execution_count": null,
   "metadata": {
    "id": "eoDK1I6FEcPW"
   },
   "outputs": [],
   "source": [
    "df.columns"
   ]
  },
  {
   "cell_type": "code",
   "execution_count": null,
   "metadata": {
    "id": "YeujwAcpE9Jp"
   },
   "outputs": [],
   "source": [
    "df.shape"
   ]
  },
  {
   "cell_type": "code",
   "execution_count": null,
   "metadata": {
    "id": "6WlPyfkRNWa9"
   },
   "outputs": [],
   "source": [
    "df[df.name == \"The Sims™ 4\"].iloc[0]"
   ]
  },
  {
   "cell_type": "markdown",
   "metadata": {
    "id": "gB9Z_5DHFQUA"
   },
   "source": [
    "# Describing Relationships with Correlations\n",
    "\n",
    "## <font color='green'>**Is the a relationship between playtime and metacritic score?**</font>"
   ]
  },
  {
   "cell_type": "code",
   "execution_count": null,
   "metadata": {
    "id": "8-iMM56cFSr9"
   },
   "outputs": [],
   "source": [
    "df.plot(\"metacritic_score\", \"median_playtime_forever\", kind=\"scatter\");"
   ]
  },
  {
   "cell_type": "code",
   "execution_count": null,
   "metadata": {
    "id": "UBChLGAwFx8C"
   },
   "outputs": [],
   "source": [
    "(df[\n",
    "    (df.metacritic_score > 0)\n",
    "    & (df.median_playtime_forever > 0)\n",
    "    & (df.median_playtime_forever < 2000)\n",
    "    ]\n",
    " .plot(\n",
    "     x=\"metacritic_score\",\n",
    "     y=\"median_playtime_forever\",\n",
    "     kind=\"scatter\",\n",
    "     title=\"Metacritic Score and Median Total Playtime\")\n",
    ");"
   ]
  },
  {
   "cell_type": "code",
   "execution_count": null,
   "metadata": {
    "id": "WKKk0_y7EmFQ"
   },
   "outputs": [],
   "source": [
    "from scipy.stats import pearsonr"
   ]
  },
  {
   "cell_type": "code",
   "execution_count": null,
   "metadata": {
    "id": "beR-yUXqEzp8"
   },
   "outputs": [],
   "source": [
    "result = pearsonr(df.metacritic_score, df.user_score)"
   ]
  },
  {
   "cell_type": "code",
   "execution_count": null,
   "metadata": {
    "id": "IERYisGUE-IU"
   },
   "outputs": [],
   "source": [
    "print(\"Pearson's r:\", round(result.statistic, 3))\n",
    "print(\"p-value:\", round(result.pvalue, 3))"
   ]
  },
  {
   "cell_type": "markdown",
   "metadata": {
    "id": "VfupZNGmNQGo"
   },
   "source": [
    "# Finding Differences with Hypothesis Tests\n",
    "\n",
    "## <font color='green'>**Are multiplayer games rated more highly than single-player games?**</font>"
   ]
  },
  {
   "cell_type": "code",
   "execution_count": null,
   "metadata": {
    "id": "xySfAVL9Tg88"
   },
   "outputs": [],
   "source": [
    "# Drop rows with missing categories\n",
    "df_ttest = df.dropna(subset=[\"categories\"]).copy()\n",
    "\n",
    "# Determine player group directly\n",
    "def classify_player_group(categories):\n",
    "    has_single = \"Single-player\" in categories\n",
    "    has_multi = \"Multi-player\" in categories\n",
    "    if has_single and not has_multi:\n",
    "        return \"single\"\n",
    "    elif has_multi and not has_single:\n",
    "        return \"multi\"\n",
    "    else:\n",
    "        return \"other\"\n",
    "\n",
    "df_ttest[\"player_group\"] = df_ttest.categories.apply(classify_player_group)\n",
    "\n",
    "# Keep only single or multi\n",
    "df_ttest = df_ttest[df_ttest[\"player_group\"].isin([\"single\", \"multi\"])]"
   ]
  },
  {
   "cell_type": "code",
   "execution_count": null,
   "metadata": {
    "id": "ERhSpu5pRsdj"
   },
   "outputs": [],
   "source": [
    "df_ttest.player_group.value_counts()"
   ]
  },
  {
   "cell_type": "code",
   "execution_count": null,
   "metadata": {
    "id": "IxWk2ISMU7uS"
   },
   "outputs": [],
   "source": [
    "df_ttest[df_ttest.metacritic_score > 0].groupby(\"player_group\").metacritic_score.mean()"
   ]
  },
  {
   "cell_type": "code",
   "execution_count": null,
   "metadata": {
    "id": "NhauFioPUd6G"
   },
   "outputs": [],
   "source": [
    "from scipy.stats import ttest_ind"
   ]
  },
  {
   "cell_type": "code",
   "execution_count": null,
   "metadata": {
    "id": "OHKeft6fShjz"
   },
   "outputs": [],
   "source": [
    "t_stat, p_value = ttest_ind(\n",
    "    df_ttest[(df_ttest.player_group == \"single\") & (df_ttest.metacritic_score > 0)].metacritic_score,\n",
    "    df_ttest[(df_ttest.player_group == \"multi\") & (df_ttest.metacritic_score > 0)].metacritic_score\n",
    "    )\n",
    "\n",
    "print(\"p-value:\", round(p_value, 3))"
   ]
  },
  {
   "cell_type": "markdown",
   "metadata": {
    "id": "DV1RVabuYjGg"
   },
   "source": [
    "# Gaining insights using interactive visualizations \n",
    "\n",
    "## <font color='green'>**What are the most popular games in each genre?**</font>"
   ]
  },
  {
   "cell_type": "code",
   "execution_count": null,
   "metadata": {
    "id": "AHiBHpUpYNjC"
   },
   "outputs": [],
   "source": [
    "import altair as alt"
   ]
  },
  {
   "cell_type": "code",
   "execution_count": null,
   "metadata": {
    "id": "td5M7RF5q8S-"
   },
   "outputs": [],
   "source": [
    "df[\"genres\"] = df.genres.apply(lambda x: x.split(\",\")[0] if type(x) != float else \"other\")\n",
    "all_genres = []\n",
    "\n",
    "for idx, row in df[(df.median_playtime_two_weeks > 0) & (df.metacritic_score > 0)].dropna(subset=[\"genres\"]).iterrows():\n",
    "  genres = row.genres.split(\",\")\n",
    "  all_genres.append(genres)\n",
    "\n",
    "\n",
    "all_genres_flat = [item for sublist in all_genres for item in sublist]\n",
    "\n",
    "unique_genre_options = set(all_genres_flat)"
   ]
  },
  {
   "cell_type": "code",
   "execution_count": null,
   "metadata": {
    "id": "74XhAI_kptqE"
   },
   "outputs": [],
   "source": [
    "point_selector = alt.selection_point(on='mouseover', nearest=True)\n",
    "input_dropdown = alt.binding_select(options=unique_genre_options, name='Genre')\n",
    "genre_selector = alt.selection_point(fields=['genres'], bind=input_dropdown)\n",
    "\n",
    "chart = alt.Chart(df[(df.median_playtime_two_weeks > 0) & (df.metacritic_score > 0)]).mark_circle(size=100).encode(\n",
    "    alt.X(\"median_playtime_two_weeks\", type=\"quantitative\"),\n",
    "    alt.Y(\"metacritic_score\", type=\"quantitative\", scale=alt.Scale(domain=[50, 110])),\n",
    "    tooltip=[\"name\"],\n",
    "    color = alt.condition(point_selector, alt.value(\"salmon\"), alt.value('lightgray'))\n",
    ").add_params(point_selector, genre_selector\n",
    ").transform_filter(\n",
    "    genre_selector\n",
    ")\n",
    "\n",
    "\n",
    "chart.interactive()"
   ]
  }
 ],
 "metadata": {
  "colab": {
   "authorship_tag": "ABX9TyPMXRfy+UrbqB1Rh36x3Vhb",
   "provenance": []
  },
  "kernelspec": {
   "display_name": "Python 3",
   "name": "python3"
  },
  "language_info": {
   "name": "python"
  }
 },
 "nbformat": 4,
 "nbformat_minor": 0
}
