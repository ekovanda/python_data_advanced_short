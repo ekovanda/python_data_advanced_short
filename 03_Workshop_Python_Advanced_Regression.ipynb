{
 "cells": [
  {
   "cell_type": "markdown",
   "metadata": {
    "id": "lmk5aJLNAET7"
   },
   "source": [
    "# Linear Regression"
   ]
  },
  {
   "cell_type": "markdown",
   "metadata": {
    "id": "-xqnZ3StAfsf"
   },
   "source": [
    "## Load & Understand the Data\n",
    "The data for this exercise was synthetically generated."
   ]
  },
  {
   "cell_type": "markdown",
   "metadata": {
    "id": "DTOT8EKaBAz3"
   },
   "source": [
    "<font color='green'>**Load the data and familiarize yourself with it.**</font>"
   ]
  },
  {
   "cell_type": "code",
   "execution_count": null,
   "metadata": {
    "id": "LR1FdsuLACkU"
   },
   "outputs": [],
   "source": [
    "import pandas as pd\n",
    "df = pd.read_csv(\"03_salary_satisfaction.csv\")"
   ]
  },
  {
   "cell_type": "markdown",
   "metadata": {
    "id": "AxfBAO_QBQh1"
   },
   "source": [
    "## Building a Linear Regression Model\n",
    "In **linear regression**, we aim to predict one numerical variable using another numerical variable.\n",
    "\n",
    "A linear regression results in a **model**. This is a fancy term for an equation or **function** $f(x)$. This function $f(x)$ takes an $x$ value as input and predicts the value of the variable $y = f(x)$.\n",
    "\n",
    "This function has a fixed form: $f(x) = m*x+b$.\n",
    "\n",
    "- The function represents a **straight line** (hence the term *linear*).\n",
    "- $m$ describes the **slope** of the function, which tells us how much our target variable $y$ changes when we change our input variable (also called **factor** or **predictor**) by one unit. In English, this value is often called the **slope**.\n",
    "- $b$ describes the $y$-value when $x=0$. You might remember this from school as the *Y-intercept*, because the line crosses the Y-axis at this point. In English, this value is often called the **intercept**.\n",
    "- $x$ is the value of our predictor for which we want to make a prediction about $y$. We can plug in any value here, and the model will make a prediction."
   ]
  },
  {
   "cell_type": "markdown",
   "metadata": {
    "id": "NDpFTym6FLpS"
   },
   "source": [
    "In Python, linear regressions can be calculated in many ways, both \"manually\" and with pre-built functions. For this, we'll use `scikit-learn` (also known as `sklearn`)."
   ]
  },
  {
   "cell_type": "code",
   "execution_count": null,
   "metadata": {
    "id": "wTFo5A6mCwUz"
   },
   "outputs": [],
   "source": [
    "from sklearn.linear_model import LinearRegression"
   ]
  },
  {
   "cell_type": "markdown",
   "metadata": {
    "id": "s5teMOhLHjzC"
   },
   "source": [
    "We're building a linear regression model. In this case, we'll use years of experience as the predictor and salary as the target variable."
   ]
  },
  {
   "cell_type": "code",
   "execution_count": null,
   "metadata": {
    "colab": {
     "base_uri": "https://localhost:8080/"
    },
    "executionInfo": {
     "elapsed": 5,
     "status": "ok",
     "timestamp": 1748774989240,
     "user": {
      "displayName": "Elliot Kovanda",
      "userId": "00350291940365927435"
     },
     "user_tz": -120
    },
    "id": "ceMi6kHPFjWI",
    "outputId": "823f2dfd-8b45-4aec-a988-39fef5fdd1ce"
   },
   "outputs": [],
   "source": [
    "X = pd.DataFrame(df.years_experience) # Inputs are usually a 2-D matrix, so we transform our single column into a DataFrame to create this shape\n",
    "y = df.salary\n",
    "\n",
    "model = LinearRegression()\n",
    "model.fit(X, y) # Here our model is automatically calculated (\"fitted\")\n",
    "\n",
    "# Here we extract the results\n",
    "slope = model.coef_[0]\n",
    "intercept = model.intercept_\n",
    "\n",
    "print(f\"Model: f(x) = {int(slope)} * x + {int(intercept)}\")"
   ]
  },
  {
   "cell_type": "markdown",
   "metadata": {
    "id": "6TefdTaiHDtS"
   },
   "source": [
    "<font color='green'>**Try to interpret what this model says.**</font>"
   ]
  },
  {
   "cell_type": "markdown",
   "metadata": {
    "id": "8V430zIOHOY-"
   },
   "source": [
    "Hint / Guiding questions:\n",
    "- What does the model say about the starting salary with no work experience?\n",
    "- According to our model, how much does each additional year of work experience add?\n",
    "\n",
    "\n",
    "Answer:\n",
    "- Without work experience (i.e., for $x=0$), our model predicts a starting salary of approx. €40,000 (we can see this from the **intercept** $b$).\n",
    "- For each additional year of professional experience, the expected salary increases by approx. €2,600 🚀 (we can see this from the **slope** $m$)."
   ]
  },
  {
   "cell_type": "markdown",
   "metadata": {
    "id": "Z2R7Afv0IcoJ"
   },
   "source": [
    "So, how much will we earn after 10 years according to our model?\n",
    "\n",
    "We can simply plug values into the formula to find out."
   ]
  },
  {
   "cell_type": "code",
   "execution_count": null,
   "metadata": {
    "colab": {
     "base_uri": "https://localhost:8080/"
    },
    "executionInfo": {
     "elapsed": 42,
     "status": "ok",
     "timestamp": 1748775019038,
     "user": {
      "displayName": "Elliot Kovanda",
      "userId": "00350291940365927435"
     },
     "user_tz": -120
    },
    "id": "jHDcrVKLIpQo",
    "outputId": "27f37c21-4f6b-48e5-ec9c-8ddbd03bfe09"
   },
   "outputs": [],
   "source": [
    "years_experience = 10\n",
    "expected_salary = slope * years_experience + intercept\n",
    "\n",
    "round(expected_salary,1)"
   ]
  },
  {
   "cell_type": "markdown",
   "metadata": {
    "id": "7BuUci2dJHeA"
   },
   "source": [
    "We can also use the model object to make several predictions at once. For example, here's the prediction for each of the first 10 years of professional experience."
   ]
  },
  {
   "cell_type": "code",
   "execution_count": null,
   "metadata": {
    "colab": {
     "base_uri": "https://localhost:8080/"
    },
    "executionInfo": {
     "elapsed": 42,
     "status": "ok",
     "timestamp": 1748775023201,
     "user": {
      "displayName": "Elliot Kovanda",
      "userId": "00350291940365927435"
     },
     "user_tz": -120
    },
    "id": "jZDkhglpGIcI",
    "outputId": "e586a08f-7945-469c-ef8c-98b4f8a11994"
   },
   "outputs": [],
   "source": [
    "# Predict values\n",
    "y_pred = model.predict(pd.DataFrame({\"years_experience\":[0,1,2,3,4,5,6,7,8,9,10]}))\n",
    "print(f\"Predicted values: {y_pred.round(1)}\")"
   ]
  },
  {
   "cell_type": "markdown",
   "metadata": {
    "id": "22ubPFJWKbul"
   },
   "source": [
    "<font color='green'>**Do these predictions seem realistic to you?**</font>"
   ]
  },
  {
   "cell_type": "markdown",
   "metadata": {
    "id": "F5l-ht_sKl7F"
   },
   "source": [
    "# Evaluating Model Quality\n",
    "Before we use our model for a salary negotiation, we should verify how reliable its predictions really are.\n",
    "\n",
    "There are essentially two methods for this."
   ]
  },
  {
   "cell_type": "markdown",
   "metadata": {
    "id": "J4dmTKTILFMm"
   },
   "source": [
    "## Visual Inspection\n",
    "We can see how close our modeled line is to the actually observed data points."
   ]
  },
  {
   "cell_type": "code",
   "execution_count": null,
   "metadata": {
    "id": "_mD-jHmmLw6C"
   },
   "outputs": [],
   "source": [
    "import matplotlib.pyplot as plt"
   ]
  },
  {
   "cell_type": "markdown",
   "metadata": {
    "id": "8V9sdbl0L4R1"
   },
   "source": [
    "Here's how our historical data is distributed"
   ]
  },
  {
   "cell_type": "code",
   "execution_count": null,
   "metadata": {
    "colab": {
     "base_uri": "https://localhost:8080/",
     "height": 472
    },
    "executionInfo": {
     "elapsed": 151,
     "status": "ok",
     "timestamp": 1748775028809,
     "user": {
      "displayName": "Elliot Kovanda",
      "userId": "00350291940365927435"
     },
     "user_tz": -120
    },
    "id": "P8gfiFS6LEZ8",
    "outputId": "0495c356-26c3-4cbd-99cb-48045ce293c5"
   },
   "outputs": [],
   "source": [
    "ax = df.plot(x=\"years_experience\", y=\"salary\", kind=\"scatter\", title=\"Salary by Years of Experience\")\n",
    "ax.set_xlim(0)\n",
    "ax.set_ylim(0)\n",
    "plt.show();"
   ]
  },
  {
   "cell_type": "markdown",
   "metadata": {
    "id": "4lJjMKppL6_C"
   },
   "source": [
    "Now we can overlay the line"
   ]
  },
  {
   "cell_type": "code",
   "execution_count": null,
   "metadata": {
    "colab": {
     "base_uri": "https://localhost:8080/",
     "height": 472
    },
    "executionInfo": {
     "elapsed": 373,
     "status": "ok",
     "timestamp": 1748775063232,
     "user": {
      "displayName": "Elliot Kovanda",
      "userId": "00350291940365927435"
     },
     "user_tz": -120
    },
    "id": "Yttc_nfxJMpW",
    "outputId": "0021dcd6-65f0-426c-fafa-9793084def56"
   },
   "outputs": [],
   "source": [
    "ax = df.plot(x=\"years_experience\", y=\"salary\", kind=\"scatter\", title=\"Salary by Years of Experience\")\n",
    "plt.axline((0, intercept), slope=slope, color='salmon', linewidth=4, label=f'y = {int(slope)} * x + {int(intercept)}')\n",
    "\n",
    "ax.set_xlim(0, 12)\n",
    "ax.set_ylim(0, 150000)\n",
    "plt.legend()\n",
    "plt.show();"
   ]
  },
  {
   "cell_type": "markdown",
   "metadata": {
    "id": "n7WZx5gfPYJL"
   },
   "source": [
    "We can see that the model visually fits quite well. The line more or less runs through the middle of the distribution, and there's no x-range where it deviates significantly from the observed values.\n",
    "\n",
    "A **crucial limitation** is that we have **not observed data for less than 1 year of work experience or more than 20 years of work experience**. While the model can make predictions in these areas, we should be skeptical because these predictions are not historically supported."
   ]
  },
  {
   "cell_type": "markdown",
   "metadata": {
    "id": "imHPoQwdQGWP"
   },
   "source": [
    "## Empirical Evaluation\n",
    "For linear regressions, the $R^2$ value is often used to assess whether a model is good or not, or better than another.\n",
    "\n",
    "$R^2$ indicates how much of the variance in the observations is *explained* by the model. The higher this value, the better the model.\n",
    "\n",
    "Expressed more intuitively: We compare the total deviation of a model that always just guesses the mean, with the total deviation of the values predicted by our model. If our model is good, the latter deviation decreases and $R^2$ increases.\n",
    "\n",
    "It's important that we know the true values for evaluation."
   ]
  },
  {
   "cell_type": "code",
   "execution_count": null,
   "metadata": {
    "id": "EpRhoT49RDSR"
   },
   "outputs": [],
   "source": [
    "from sklearn.metrics import r2_score"
   ]
  },
  {
   "cell_type": "code",
   "execution_count": null,
   "metadata": {
    "colab": {
     "base_uri": "https://localhost:8080/"
    },
    "executionInfo": {
     "elapsed": 11,
     "status": "ok",
     "timestamp": 1748775132567,
     "user": {
      "displayName": "Elliot Kovanda",
      "userId": "00350291940365927435"
     },
     "user_tz": -120
    },
    "id": "d7wBT_FLRiCy",
    "outputId": "86960a25-9fcd-4a7c-9b3f-01dad83d0e2b"
   },
   "outputs": [],
   "source": [
    "predicted_salary = model.predict(pd.DataFrame(df.years_experience))\n",
    "true_salary = df.salary\n",
    "\n",
    "r2_score(true_salary, predicted_salary)"
   ]
  },
  {
   "cell_type": "markdown",
   "metadata": {
    "id": "bUO4WeorVt8B"
   },
   "source": [
    "**Interpretation**: The $R^2$ value is about 0.5, which means that a significant portion of the variability in salary can be explained by years of experience."
   ]
  },
  {
   "cell_type": "markdown",
   "metadata": {
    "id": "hWLvtGQDQUPP"
   },
   "source": [
    "## Conclusion - Can we trust the model?\n",
    "We have shown both visually and empirically that the model fits well. However, it's very important to emphasize that the model only fits well to the **observed data**, and predictions are only meaningful for individuals for whom the dataset is **representative**.\n",
    "\n",
    "Therefore, if the dataset was collected in a specific country or only for a specific industry, the model only represents the salary development for that country or industry.\n",
    "\n",
    "Since we don't know exactly where the data comes from and for which people it is representative, we unfortunately cannot rely on it despite the good results."
   ]
  },
  {
   "cell_type": "markdown",
   "metadata": {
    "id": "zEBPy8N0InI5"
   },
   "source": [
    "# Now It's Your Turn!\n",
    "<font color='green'>**Perform a similar analysis for salary and satisfaction. Answer the following guiding questions:**\n",
    "- How much more satisfaction does an additional €1000 annual salary provide?\n",
    "- How well does salary explain overall satisfaction?\n",
    "</font>\n",
    "\n"
   ]
  },
  {
   "cell_type": "code",
   "execution_count": null,
   "metadata": {
    "id": "0TDi-giajlez"
   },
   "outputs": [],
   "source": []
  }
 ],
 "metadata": {
  "colab": {
   "authorship_tag": "ABX9TyP90dYKlGDvSIicwC0y4jwJ",
   "provenance": []
  },
  "kernelspec": {
   "display_name": "Python 3",
   "name": "python3"
  },
  "language_info": {
   "name": "python"
  }
 },
 "nbformat": 4,
 "nbformat_minor": 0
}
